{
 "cells": [
  {
   "cell_type": "markdown",
   "metadata": {},
   "source": [
    "<center>\n",
    "    <img src=\"https://cf-courses-data.s3.us.cloud-object-storage.appdomain.cloud/IBMDeveloperSkillsNetwork-DS0105EN-SkillsNetwork/labs/Module2/images/SN_web_lightmode.png\" width=\"300\" alt=\"cognitiveclass.ai logo\">\n",
    "</center>\n"
   ]
  },
  {
   "cell_type": "markdown",
   "metadata": {},
   "source": [
    "#### Add your code below following the instructions given in the course\n"
   ]
  },
  {
   "cell_type": "markdown",
   "metadata": {},
   "source": [
    "# Title: Excersice Week 6"
   ]
  },
  {
   "cell_type": "markdown",
   "metadata": {},
   "source": [
    "Introduction: This is an lab for IBM Data Science course"
   ]
  },
  {
   "cell_type": "markdown",
   "metadata": {},
   "source": [
    "<b>Data Science languages:</b>\n",
    "- Python\n",
    "- R\n",
    "- SQL\n",
    "- C++\n",
    "- Scala\n",
    "- JavaScript\n",
    "- Matlab"
   ]
  },
  {
   "cell_type": "markdown",
   "metadata": {},
   "source": [
    "<b>Data Science libraries:</b>\n",
    "- Pandas\n",
    "- Matplotlib\n",
    "- Numpy\n",
    "- Plotly\n",
    "- Scikit-learn\n",
    "- TensorFlow\n",
    "- PyTorch\n",
    "- Seaborn"
   ]
  },
  {
   "cell_type": "markdown",
   "metadata": {},
   "source": [
    "<b>Data Science tools:</b>\n",
    "No.|Name\n",
    "---|-----\n",
    "1|Anaconda\n",
    "2|Jupyter Notebook\n",
    "3|R Studio\n",
    "4|Visual Studio Code\n",
    "5|Power BI\n",
    "6|Tableau\n",
    "7|SAS\n",
    "8|Apache Spark\n",
    "9|Hadoop\n",
    "10|MongoDB\n",
    "11|Microsoft Office"
   ]
  },
  {
   "cell_type": "markdown",
   "metadata": {},
   "source": [
    "### Arithmetic expression:\n",
    "Operator|Operation|Sample\n",
    "--------|---------|------\n",
    "+|Addition|a+b\n",
    "-|Subtraction|a-b\n",
    "*|Multiplication|a*b\n",
    "/|Division|a/b\n",
    "%|Modulo|a%b\n",
    "//|Floor division or Integer division\\a//b\n",
    "**|Expotentiation|a**b"
   ]
  },
  {
   "cell_type": "code",
   "execution_count": 1,
   "metadata": {
    "tags": []
   },
   "outputs": [
    {
     "data": {
      "text/plain": [
       "52"
      ]
     },
     "execution_count": 1,
     "metadata": {},
     "output_type": "execute_result"
    }
   ],
   "source": [
    "9*5+7"
   ]
  },
  {
   "cell_type": "code",
   "execution_count": 3,
   "metadata": {
    "tags": []
   },
   "outputs": [],
   "source": [
    "# Convert minute to hour:\n",
    "def convert(minute):\n",
    "    hour = minute//60\n",
    "    return hour"
   ]
  },
  {
   "cell_type": "markdown",
   "metadata": {},
   "source": [
    "### Objectives:\n",
    "- Practise Jupyter Notebook\n",
    "- Practise using markdown and code"
   ]
  }
 ],
 "metadata": {
  "kernelspec": {
   "display_name": "Python",
   "language": "python",
   "name": "conda-env-python-py"
  },
  "language_info": {
   "codemirror_mode": {
    "name": "ipython",
    "version": 3
   },
   "file_extension": ".py",
   "mimetype": "text/x-python",
   "name": "python",
   "nbconvert_exporter": "python",
   "pygments_lexer": "ipython3",
   "version": "3.7.12"
  }
 },
 "nbformat": 4,
 "nbformat_minor": 4
}
